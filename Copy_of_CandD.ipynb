{
  "nbformat": 4,
  "nbformat_minor": 0,
  "metadata": {
    "colab": {
      "name": "Copy of CandD.ipynb",
      "provenance": [],
      "include_colab_link": true
    },
    "kernelspec": {
      "name": "python3",
      "display_name": "Python 3"
    },
    "language_info": {
      "name": "python"
    },
    "accelerator": "GPU"
  },
  "cells": [
    {
      "cell_type": "markdown",
      "metadata": {
        "id": "view-in-github",
        "colab_type": "text"
      },
      "source": [
        "<a href=\"https://colab.research.google.com/github/ruoroj/Catsn-Dogs/blob/main/Copy_of_CandD.ipynb\" target=\"_parent\"><img src=\"https://colab.research.google.com/assets/colab-badge.svg\" alt=\"Open In Colab\"/></a>"
      ]
    },
    {
      "cell_type": "markdown",
      "metadata": {
        "id": "fx6ICuz7OVca"
      },
      "source": [
        "# 1. Defining the Question"
      ]
    },
    {
      "cell_type": "markdown",
      "metadata": {
        "id": "yIEM3JyuOqny"
      },
      "source": [
        "### Understanding the Context"
      ]
    },
    {
      "cell_type": "markdown",
      "metadata": {
        "id": "yayBVuEFO6aO"
      },
      "source": [
        "The database is composed of several hundred images of cats and Dogs. Using these images we will train a amchine learning model to predict the difference between cats and dogs. "
      ]
    },
    {
      "cell_type": "markdown",
      "metadata": {
        "id": "8lR1IYJWPD91"
      },
      "source": [
        "### Specifying the Question"
      ]
    },
    {
      "cell_type": "markdown",
      "metadata": {
        "id": "Cf7rnqX2PF7E"
      },
      "source": [
        "The database has picture of cats and dogs that should be used to cllasify a picture as either a dog or cat. "
      ]
    },
    {
      "cell_type": "markdown",
      "metadata": {
        "id": "nyrdtMHtPKWO"
      },
      "source": [
        "### Metrics for Success"
      ]
    },
    {
      "cell_type": "markdown",
      "metadata": {
        "id": "XjGSWdwOPPW2"
      },
      "source": [
        "The metric of success for this project is the model accuracy. The model accuracy shows how well a particular model predicts the dependent variable when tested after training it. The accuracy will be derived using the accuracy score. An accuracy that is low shows our model fails to accurately predict the dependent variable and the data may be underfit while an accuracy of 1 is not good either since the model is overfitted. In this project, my aim is to achieve an accuracy of at least 80%."
      ]
    },
    {
      "cell_type": "markdown",
      "metadata": {
        "id": "VxD8GEyIPUMQ"
      },
      "source": [
        "### The Experimental Design"
      ]
    },
    {
      "cell_type": "markdown",
      "metadata": {
        "id": "17prGPGCPZSq"
      },
      "source": [
        "The experimental design for this project is as follows:\n",
        "\n",
        "- Loading the libraries and dataset\n",
        "- Data cleaning and preparation\n",
        "- Making predictions using the different models that I've created\n",
        "- Assesing the accuracy of the models created\n",
        "- Making conclusions and challenging the solution"
      ]
    },
    {
      "cell_type": "markdown",
      "metadata": {
        "id": "yhy40BQ4Pqcs"
      },
      "source": [
        "# 2. Reading the Data"
      ]
    },
    {
      "cell_type": "code",
      "metadata": {
        "id": "p2J-51H3Ncne",
        "colab": {
          "base_uri": "https://localhost:8080/"
        },
        "outputId": "2a4be83f-132b-4679-d544-95c32900c2a8"
      },
      "source": [
        "import pandas as pd\n",
        "pd.options.display.float_format = \"{:.2f}\".format\n",
        "import numpy as np\n",
        "import os\n",
        "import matplotlib.pyplot as plt\n",
        "import matplotlib.image as mpimg\n",
        "import seaborn as sns\n",
        "from sklearn.model_selection import train_test_split\n",
        "from sklearn.metrics import r2_score\n",
        "from sklearn import metrics\n",
        "from sklearn.metrics import confusion_matrix,accuracy_score, classification_report\n",
        "from sklearn.preprocessing import StandardScaler\n",
        "import scipy as sp\n",
        "import tensorflow as tf\n",
        "import warnings\n",
        "import cv2\n",
        "\n",
        "warnings.filterwarnings('ignore')\n",
        "\n",
        "from sklearn.preprocessing import LabelEncoder\n",
        "lb=LabelEncoder()\n",
        "from google.colab import drive\n",
        "drive.mount('/content/drive')\n",
        "from zipfile import ZipFile as zf\n",
        "import shutil\n",
        "import random\n",
        "from matplotlib import pyplot as plt\n",
        "\n"
      ],
      "execution_count": 5,
      "outputs": [
        {
          "output_type": "stream",
          "text": [
            "Mounted at /content/drive\n"
          ],
          "name": "stdout"
        }
      ]
    },
    {
      "cell_type": "code",
      "metadata": {
        "id": "HlCI3tLGOVGj"
      },
      "source": [
        "# EXTRACT THE DATA FROM G-DRIVE\n",
        "test_zip = zf('/content/drive/MyDrive/jojo/cat/test1.zip', 'r')\n",
        "test_zip.extractall('./tmp')\n",
        "test_zip.close()\n",
        "train_zip = zf('/content/drive/MyDrive/jojo/cat/train.zip', 'r')\n",
        "train_zip.extractall('./tmp')\n",
        "train_zip.close()"
      ],
      "execution_count": 7,
      "outputs": []
    },
    {
      "cell_type": "code",
      "metadata": {
        "id": "ExiBqCZ4SRnz"
      },
      "source": [
        "from google.colab import drive\n",
        "drive.mount('/content/drive')"
      ],
      "execution_count": null,
      "outputs": []
    },
    {
      "cell_type": "code",
      "metadata": {
        "colab": {
          "base_uri": "https://localhost:8080/",
          "height": 269
        },
        "id": "NZAU662kqjeW",
        "outputId": "8e36077c-8b0c-4d5d-b8c7-e51742517a52"
      },
      "source": [
        "# Checking if there is content in the train data\n",
        "train_data = '/content/tmp/train/'\n",
        "\n",
        "x = os.listdir(train_data)\n",
        "for img in os.listdir(train_data):\n",
        "  img_array = cv2.imread(os.path.join(train_data, img))\n",
        "  plt.imshow(img_array)\n",
        "  plt.show()\n",
        "  break"
      ],
      "execution_count": 8,
      "outputs": [
        {
          "output_type": "display_data",
          "data": {
            "image/png": "[encoded data removed]",
            "text/plain": [
              "<Figure size 432x288 with 1 Axes>"
            ]
          },
          "metadata": {
            "tags": [],
            "needs_background": "light"
          }
        }
      ]
    },
    {
      "cell_type": "code",
      "metadata": {
        "id": "Q_I4kS9h9JpB"
      },
      "source": [
        "# Making a directory to store cata and dog pictures separately.\n",
        "images = './tmp/train'\n",
        "pet_images = './pet-images'\n",
        "cats = os.path.join(pet_images,'cat')\n",
        "dogs = os.path.join(pet_images,'dog')\n",
        "os.mkdir(pet_images)\n",
        "os.mkdir(cats)\n",
        "os.mkdir(dogs)"
      ],
      "execution_count": 9,
      "outputs": []
    },
    {
      "cell_type": "code",
      "metadata": {
        "id": "Tjs6EoVqsm-2"
      },
      "source": [
        "# Spliting the cats and dog images into different folders\n",
        "for i in os.listdir(images):\n",
        "    if i.split('.')[0] == 'cat':\n",
        "        src = os.path.join(images,i)\n",
        "        dst = os.path.join(cats,i)\n",
        "        shutil.copyfile(src,dst)\n",
        "    elif i.split('.')[0] == 'dog':\n",
        "        src = os.path.join(images,i)\n",
        "        dst = os.path.join(dogs,i)\n",
        "        shutil.copyfile(src,dst)"
      ],
      "execution_count": 10,
      "outputs": []
    },
    {
      "cell_type": "code",
      "metadata": {
        "id": "xcBoKtPl9o5p",
        "colab": {
          "base_uri": "https://localhost:8080/"
        },
        "outputId": "3a65dba0-41fa-4d86-9591-0aa2d686cce7"
      },
      "source": [
        "# check the number of images in each folder\n",
        "print(len(os.listdir(cats)))\n",
        "print(len(os.listdir(dogs)))"
      ],
      "execution_count": 11,
      "outputs": [
        {
          "output_type": "stream",
          "text": [
            "12500\n",
            "12500\n"
          ],
          "name": "stdout"
        }
      ]
    },
    {
      "cell_type": "code",
      "metadata": {
        "id": "ZIMqrJWNsm7g"
      },
      "source": [
        "# spliting the images into training and validation sets\n",
        "base_dir = './dogs-vs-cats'\n",
        "os.mkdir(base_dir)\n",
        "train = os.path.join(base_dir,'training')\n",
        "validation = os.path.join(base_dir,'validation')\n",
        "train_cat = os.path.join(train,'cats')\n",
        "train_dog = os.path.join(train,'dogs')\n",
        "validation_cat = os.path.join(validation,'cats')\n",
        "validation_dog = os.path.join(validation,'dogs')\n"
      ],
      "execution_count": 12,
      "outputs": []
    },
    {
      "cell_type": "code",
      "metadata": {
        "id": "MXc07QGJsm5J"
      },
      "source": [
        "# Defining the test folder and populating it with data\n",
        "\n",
        "test_images = './tmp/test1'\n",
        "test = os.path.join(base_dir,'test')\n",
        "test_folder = os.path.join(test,'test_folder')\n",
        "os.mkdir(test)\n",
        "os.mkdir(test_folder)\n",
        "\n",
        "for i in os.listdir(test_images):\n",
        "    src = os.path.join(test_images,i)\n",
        "    dst = os.path.join(test_folder,i)\n",
        "    shutil.copyfile(src,dst)"
      ],
      "execution_count": 13,
      "outputs": []
    },
    {
      "cell_type": "code",
      "metadata": {
        "id": "rifLCsyOsm2d",
        "colab": {
          "base_uri": "https://localhost:8080/"
        },
        "outputId": "dd4a1ae3-7d41-4f62-d765-c346af2684a8"
      },
      "source": [
        "# Check the length of the test folder\n",
        "print(len(os.listdir(test_folder)))"
      ],
      "execution_count": 14,
      "outputs": [
        {
          "output_type": "stream",
          "text": [
            "12500\n"
          ],
          "name": "stdout"
        }
      ]
    },
    {
      "cell_type": "code",
      "metadata": {
        "id": "oCcD0nFOypPb"
      },
      "source": [
        "# Making the directories of the train, and validation datasets. \n",
        "\n",
        "os.mkdir(train)\n",
        "os.mkdir(validation)\n",
        "os.mkdir(train_cat)\n",
        "os.mkdir(train_dog)\n",
        "os.mkdir(validation_cat)\n",
        "os.mkdir(validation_dog)"
      ],
      "execution_count": 15,
      "outputs": []
    },
    {
      "cell_type": "code",
      "metadata": {
        "id": "d9MxXanYOU6v"
      },
      "source": [
        "# Defining Function of spliting the dataset into \n",
        "\n",
        "def split_data(source,training,validation,split):\n",
        "    data = os.listdir(source)\n",
        "    data = random.sample(data,len(data))\n",
        "    for id,file in enumerate(data):\n",
        "        if (os.path.getsize(source) != 0) and (id < len(data) * split):\n",
        "            src = os.path.join(source,file)\n",
        "            dst = os.path.join(training,file)\n",
        "            shutil.copyfile(src,dst)\n",
        "        elif (os.path.getsize(source) != 0) and (id >= len(data) * split):\n",
        "            src = os.path.join(source,file)\n",
        "            dst = os.path.join(validation,file)\n",
        "            shutil.copyfile(src,dst)\n",
        "            \n",
        "split = 0.8\n",
        "split_data(cats,train_cat,validation_cat,split)\n",
        "split_data(dogs,train_dog,validation_dog,split)"
      ],
      "execution_count": 16,
      "outputs": []
    },
    {
      "cell_type": "code",
      "metadata": {
        "id": "d3EKuVI-4MNU",
        "colab": {
          "base_uri": "https://localhost:8080/"
        },
        "outputId": "bcb00f85-f8b5-42be-98b6-2043d7a52d23"
      },
      "source": [
        "# Check the lenght of the differnet splits\n",
        "\n",
        "print(len(os.listdir(train_cat)))\n",
        "print(len(os.listdir(train_dog)))\n",
        "print(len(os.listdir(validation_cat)))\n",
        "print(len(os.listdir(validation_dog)))"
      ],
      "execution_count": 17,
      "outputs": [
        {
          "output_type": "stream",
          "text": [
            "10000\n",
            "10000\n",
            "2500\n",
            "2500\n"
          ],
          "name": "stdout"
        }
      ]
    },
    {
      "cell_type": "markdown",
      "metadata": {
        "id": "Q2rgnTM2Aodd"
      },
      "source": [
        "## Tensorflow Modelling "
      ]
    },
    {
      "cell_type": "code",
      "metadata": {
        "id": "JzrryVQiz2uw"
      },
      "source": [
        "from keras import models\n",
        "from keras import layers\n",
        "from keras import optimizers\n",
        "from keras.preprocessing.image import load_img, img_to_array, ImageDataGenerator\n",
        "WIDTH = 150\n",
        "HEIGHT = 150\n",
        "import tensorflow as tf\n",
        "from tensorflow.keras.datasets import cifar10\n",
        "from tensorflow.keras.preprocessing.image import ImageDataGenerator\n",
        "from tensorflow.keras.models import Sequential\n",
        "from tensorflow.keras.layers import Dense, Dropout, Activation, Flatten\n",
        "from tensorflow.keras.layers import Conv2D, MaxPooling2D"
      ],
      "execution_count": 18,
      "outputs": []
    },
    {
      "cell_type": "code",
      "metadata": {
        "id": "4p9_ZY7B0YDR",
        "colab": {
          "base_uri": "https://localhost:8080/"
        },
        "outputId": "c6266075-7858-41f5-9929-a66647ebca87"
      },
      "source": [
        "model=models.Sequential()\n",
        "model.add(layers.Conv2D(32, (3,3), activation=\"relu\", input_shape=(WIDTH, HEIGHT, 3)))\n",
        "model.add(layers.Conv2D(32, (3,3), activation=\"relu\"))\n",
        "model.add(layers.BatchNormalization())\n",
        "model.add(layers.MaxPooling2D((2,2)))\n",
        "model.add(layers.Dropout(0.25))\n",
        "\n",
        "model.add(layers.Conv2D(64, (3,3), activation=\"relu\"))\n",
        "model.add(layers.Conv2D(64, (3,3), activation=\"relu\"))\n",
        "model.add(layers.BatchNormalization())\n",
        "model.add(layers.MaxPooling2D(2,2))\n",
        "model.add(layers.Dropout(0.25))\n",
        "\n",
        "model.add(layers.Conv2D(128, (3,3), activation=\"relu\"))\n",
        "model.add(layers.Conv2D(128, (3,3), activation=\"relu\"))\n",
        "model.add(layers.BatchNormalization())\n",
        "model.add(layers.MaxPooling2D((2,2)))\n",
        "model.add(layers.Dropout(0.25))\n",
        "\n",
        "model.add(layers.Conv2D(64, (3,3), activation=\"relu\"))\n",
        "model.add(layers.Conv2D(64, (3,3), activation=\"relu\"))\n",
        "model.add(layers.BatchNormalization())\n",
        "model.add(layers.MaxPooling2D((2,2)))\n",
        "model.add(layers.Dropout(0.25))\n",
        "model.add(layers.Flatten())\n",
        "model.add(layers.Dense(512, activation=\"relu\"))\n",
        "model.add(layers.Dropout(0.5))\n",
        "model.add(layers.Dense(1, activation=\"sigmoid\"))\n",
        "model.summary()"
      ],
      "execution_count": 19,
      "outputs": [
        {
          "output_type": "stream",
          "text": [
            "Model: \"sequential\"\n",
            "_________________________________________________________________\n",
            "Layer (type)                 Output Shape              Param #   \n",
            "=================================================================\n",
            "conv2d (Conv2D)              (None, 148, 148, 32)      896       \n",
            "_________________________________________________________________\n",
            "conv2d_1 (Conv2D)            (None, 146, 146, 32)      9248      \n",
            "_________________________________________________________________\n",
            "batch_normalization (BatchNo (None, 146, 146, 32)      128       \n",
            "_________________________________________________________________\n",
            "max_pooling2d (MaxPooling2D) (None, 73, 73, 32)        0         \n",
            "_________________________________________________________________\n",
            "dropout (Dropout)            (None, 73, 73, 32)        0         \n",
            "_________________________________________________________________\n",
            "conv2d_2 (Conv2D)            (None, 71, 71, 64)        18496     \n",
            "_________________________________________________________________\n",
            "conv2d_3 (Conv2D)            (None, 69, 69, 64)        36928     \n",
            "_________________________________________________________________\n",
            "batch_normalization_1 (Batch (None, 69, 69, 64)        256       \n",
            "_________________________________________________________________\n",
            "max_pooling2d_1 (MaxPooling2 (None, 34, 34, 64)        0         \n",
            "_________________________________________________________________\n",
            "dropout_1 (Dropout)          (None, 34, 34, 64)        0         \n",
            "_________________________________________________________________\n",
            "conv2d_4 (Conv2D)            (None, 32, 32, 128)       73856     \n",
            "_________________________________________________________________\n",
            "conv2d_5 (Conv2D)            (None, 30, 30, 128)       147584    \n",
            "_________________________________________________________________\n",
            "batch_normalization_2 (Batch (None, 30, 30, 128)       512       \n",
            "_________________________________________________________________\n",
            "max_pooling2d_2 (MaxPooling2 (None, 15, 15, 128)       0         \n",
            "_________________________________________________________________\n",
            "dropout_2 (Dropout)          (None, 15, 15, 128)       0         \n",
            "_________________________________________________________________\n",
            "conv2d_6 (Conv2D)            (None, 13, 13, 64)        73792     \n",
            "_________________________________________________________________\n",
            "conv2d_7 (Conv2D)            (None, 11, 11, 64)        36928     \n",
            "_________________________________________________________________\n",
            "batch_normalization_3 (Batch (None, 11, 11, 64)        256       \n",
            "_________________________________________________________________\n",
            "max_pooling2d_3 (MaxPooling2 (None, 5, 5, 64)          0         \n",
            "_________________________________________________________________\n",
            "dropout_3 (Dropout)          (None, 5, 5, 64)          0         \n",
            "_________________________________________________________________\n",
            "flatten (Flatten)            (None, 1600)              0         \n",
            "_________________________________________________________________\n",
            "dense (Dense)                (None, 512)               819712    \n",
            "_________________________________________________________________\n",
            "dropout_4 (Dropout)          (None, 512)               0         \n",
            "_________________________________________________________________\n",
            "dense_1 (Dense)              (None, 1)                 513       \n",
            "=================================================================\n",
            "Total params: 1,219,105\n",
            "Trainable params: 1,218,529\n",
            "Non-trainable params: 576\n",
            "_________________________________________________________________\n"
          ],
          "name": "stdout"
        }
      ]
    },
    {
      "cell_type": "code",
      "metadata": {
        "id": "_YULTesk1ym_",
        "colab": {
          "base_uri": "https://localhost:8080/"
        },
        "outputId": "687c56cb-7ce2-4578-aaed-72ca1c2a25b6"
      },
      "source": [
        "model.compile(loss=\"binary_crossentropy\", \n",
        "             optimizer=optimizers.RMSprop(learning_rate=1e-4),\n",
        "             metrics=[\"acc\"])\n",
        "print(\" Model compiled.\")"
      ],
      "execution_count": 20,
      "outputs": [
        {
          "output_type": "stream",
          "text": [
            " Model compiled.\n"
          ],
          "name": "stdout"
        }
      ]
    },
    {
      "cell_type": "code",
      "metadata": {
        "id": "0C2fL3Nb17Mf"
      },
      "source": [
        "datagen = ImageDataGenerator(rescale=1./255,\n",
        "                            #featurewise_center=True,\n",
        "                            #featurewise_std_normalization=True,\n",
        "                            rotation_range=40,\n",
        "                            width_shift_range=0.2,\n",
        "                            height_shift_range=0.2,\n",
        "                            shear_range=0.2,\n",
        "                            zoom_range=0.2,\n",
        "                            horizontal_flip=True,\n",
        "                            vertical_flip=True,\n",
        "                            fill_mode='nearest'\n",
        "                            )\n",
        "\n",
        "valid_datagen = ImageDataGenerator(rescale=1./255)"
      ],
      "execution_count": 21,
      "outputs": []
    },
    {
      "cell_type": "code",
      "metadata": {
        "id": "0bmhNRWd17JR",
        "colab": {
          "base_uri": "https://localhost:8080/"
        },
        "outputId": "c7a42e4f-5950-4ab8-cc8c-490ae4de95b0"
      },
      "source": [
        "train_generator = datagen.flow_from_directory(train,\n",
        "                                             target_size=(150,150),\n",
        "                                             batch_size=64,\n",
        "                                             class_mode='binary'\n",
        "                                             )\n",
        "\n",
        "validation_generator = valid_datagen.flow_from_directory(validation,\n",
        "                                           target_size=(150,150),\n",
        "                                           batch_size=64,\n",
        "                                           class_mode='binary'\n",
        "                                           )"
      ],
      "execution_count": 22,
      "outputs": [
        {
          "output_type": "stream",
          "text": [
            "Found 20000 images belonging to 2 classes.\n",
            "Found 5000 images belonging to 2 classes.\n"
          ],
          "name": "stdout"
        }
      ]
    },
    {
      "cell_type": "code",
      "metadata": {
        "id": "vOJJkCB7Ad_G",
        "colab": {
          "base_uri": "https://localhost:8080/"
        },
        "outputId": "ad2b4ce7-c4f0-4e4b-b768-a0befaa2fe37"
      },
      "source": [
        "history = model.fit(train_generator,\n",
        "                       steps_per_epoch=150,\n",
        "                       epochs=50,\n",
        "                       validation_data=validation_generator,\n",
        "                       validation_steps=50,\n",
        "                       verbose = 2 \n",
        "                   )"
      ],
      "execution_count": 23,
      "outputs": [
        {
          "output_type": "stream",
          "text": [
            "Epoch 1/50\n",
            "150/150 - 129s - loss: 1.0356 - acc: 0.5345 - val_loss: 1.4458 - val_acc: 0.4988\n",
            "Epoch 2/50\n",
            "150/150 - 79s - loss: 0.7721 - acc: 0.5591 - val_loss: 1.9928 - val_acc: 0.5019\n",
            "Epoch 3/50\n",
            "150/150 - 81s - loss: 0.6954 - acc: 0.5766 - val_loss: 1.4618 - val_acc: 0.5084\n",
            "Epoch 4/50\n",
            "150/150 - 78s - loss: 0.6648 - acc: 0.6076 - val_loss: 1.2195 - val_acc: 0.5483\n",
            "Epoch 5/50\n",
            "150/150 - 77s - loss: 0.6600 - acc: 0.6068 - val_loss: 1.2391 - val_acc: 0.5251\n",
            "Epoch 6/50\n",
            "150/150 - 79s - loss: 0.6395 - acc: 0.6349 - val_loss: 0.8933 - val_acc: 0.5984\n",
            "Epoch 7/50\n",
            "150/150 - 78s - loss: 0.6316 - acc: 0.6451 - val_loss: 1.2297 - val_acc: 0.5608\n",
            "Epoch 8/50\n",
            "150/150 - 78s - loss: 0.6184 - acc: 0.6571 - val_loss: 1.0401 - val_acc: 0.6135\n",
            "Epoch 9/50\n",
            "150/150 - 78s - loss: 0.6161 - acc: 0.6596 - val_loss: 0.8376 - val_acc: 0.6506\n",
            "Epoch 10/50\n",
            "150/150 - 78s - loss: 0.6077 - acc: 0.6709 - val_loss: 0.9235 - val_acc: 0.6616\n",
            "Epoch 11/50\n",
            "150/150 - 78s - loss: 0.5973 - acc: 0.6796 - val_loss: 0.9593 - val_acc: 0.6317\n",
            "Epoch 12/50\n",
            "150/150 - 79s - loss: 0.5899 - acc: 0.6926 - val_loss: 1.1411 - val_acc: 0.6078\n",
            "Epoch 13/50\n",
            "150/150 - 78s - loss: 0.5835 - acc: 0.6891 - val_loss: 0.8110 - val_acc: 0.6727\n",
            "Epoch 14/50\n",
            "150/150 - 78s - loss: 0.5820 - acc: 0.6954 - val_loss: 1.1732 - val_acc: 0.6221\n",
            "Epoch 15/50\n",
            "150/150 - 79s - loss: 0.5734 - acc: 0.7010 - val_loss: 0.7186 - val_acc: 0.7044\n",
            "Epoch 16/50\n",
            "150/150 - 78s - loss: 0.5740 - acc: 0.7054 - val_loss: 1.1097 - val_acc: 0.6307\n",
            "Epoch 17/50\n",
            "150/150 - 78s - loss: 0.5646 - acc: 0.7094 - val_loss: 1.0374 - val_acc: 0.6519\n",
            "Epoch 18/50\n",
            "150/150 - 78s - loss: 0.5592 - acc: 0.7144 - val_loss: 0.7731 - val_acc: 0.7207\n",
            "Epoch 19/50\n",
            "150/150 - 80s - loss: 0.5460 - acc: 0.7220 - val_loss: 0.8023 - val_acc: 0.7223\n",
            "Epoch 20/50\n",
            "150/150 - 78s - loss: 0.5508 - acc: 0.7184 - val_loss: 0.7744 - val_acc: 0.6997\n",
            "Epoch 21/50\n",
            "150/150 - 77s - loss: 0.5413 - acc: 0.7296 - val_loss: 0.6439 - val_acc: 0.7513\n",
            "Epoch 22/50\n",
            "150/150 - 78s - loss: 0.5564 - acc: 0.7232 - val_loss: 0.8811 - val_acc: 0.6975\n",
            "Epoch 23/50\n",
            "150/150 - 79s - loss: 0.5261 - acc: 0.7368 - val_loss: 0.7049 - val_acc: 0.7316\n",
            "Epoch 24/50\n",
            "150/150 - 78s - loss: 0.5360 - acc: 0.7298 - val_loss: 0.6500 - val_acc: 0.7535\n",
            "Epoch 25/50\n",
            "150/150 - 78s - loss: 0.5262 - acc: 0.7343 - val_loss: 0.5086 - val_acc: 0.7812\n",
            "Epoch 26/50\n",
            "150/150 - 78s - loss: 0.5253 - acc: 0.7451 - val_loss: 0.6265 - val_acc: 0.7684\n",
            "Epoch 27/50\n",
            "150/150 - 79s - loss: 0.5236 - acc: 0.7425 - val_loss: 0.8650 - val_acc: 0.7080\n",
            "Epoch 28/50\n",
            "150/150 - 78s - loss: 0.5154 - acc: 0.7487 - val_loss: 0.6196 - val_acc: 0.7675\n",
            "Epoch 29/50\n",
            "150/150 - 78s - loss: 0.5174 - acc: 0.7492 - val_loss: 0.5854 - val_acc: 0.7731\n",
            "Epoch 30/50\n",
            "150/150 - 77s - loss: 0.5198 - acc: 0.7420 - val_loss: 1.8021 - val_acc: 0.6291\n",
            "Epoch 31/50\n",
            "150/150 - 78s - loss: 0.5148 - acc: 0.7523 - val_loss: 1.0292 - val_acc: 0.7198\n",
            "Epoch 32/50\n",
            "150/150 - 79s - loss: 0.5085 - acc: 0.7510 - val_loss: 0.7447 - val_acc: 0.7450\n",
            "Epoch 33/50\n",
            "150/150 - 77s - loss: 0.5023 - acc: 0.7552 - val_loss: 0.7038 - val_acc: 0.7230\n",
            "Epoch 34/50\n",
            "150/150 - 77s - loss: 0.5044 - acc: 0.7578 - val_loss: 0.9766 - val_acc: 0.7169\n",
            "Epoch 35/50\n",
            "150/150 - 77s - loss: 0.4999 - acc: 0.7577 - val_loss: 0.6447 - val_acc: 0.7831\n",
            "Epoch 36/50\n",
            "150/150 - 79s - loss: 0.4854 - acc: 0.7680 - val_loss: 0.5267 - val_acc: 0.7875\n",
            "Epoch 37/50\n",
            "150/150 - 77s - loss: 0.4896 - acc: 0.7691 - val_loss: 0.5946 - val_acc: 0.7778\n",
            "Epoch 38/50\n",
            "150/150 - 77s - loss: 0.4983 - acc: 0.7623 - val_loss: 0.7555 - val_acc: 0.7357\n",
            "Epoch 39/50\n",
            "150/150 - 78s - loss: 0.4834 - acc: 0.7772 - val_loss: 0.5067 - val_acc: 0.7920\n",
            "Epoch 40/50\n",
            "150/150 - 77s - loss: 0.4887 - acc: 0.7695 - val_loss: 0.6419 - val_acc: 0.7597\n",
            "Epoch 41/50\n",
            "150/150 - 78s - loss: 0.4750 - acc: 0.7779 - val_loss: 0.6788 - val_acc: 0.7312\n",
            "Epoch 42/50\n",
            "150/150 - 78s - loss: 0.4789 - acc: 0.7740 - val_loss: 0.6165 - val_acc: 0.7541\n",
            "Epoch 43/50\n",
            "150/150 - 79s - loss: 0.4576 - acc: 0.7887 - val_loss: 0.7407 - val_acc: 0.7484\n",
            "Epoch 44/50\n",
            "150/150 - 77s - loss: 0.4731 - acc: 0.7805 - val_loss: 0.4622 - val_acc: 0.8060\n",
            "Epoch 45/50\n",
            "150/150 - 78s - loss: 0.4623 - acc: 0.7811 - val_loss: 0.6681 - val_acc: 0.7847\n",
            "Epoch 46/50\n",
            "150/150 - 78s - loss: 0.4665 - acc: 0.7819 - val_loss: 0.8054 - val_acc: 0.7806\n",
            "Epoch 47/50\n",
            "150/150 - 78s - loss: 0.4648 - acc: 0.7825 - val_loss: 0.8378 - val_acc: 0.7567\n",
            "Epoch 48/50\n",
            "150/150 - 77s - loss: 0.4511 - acc: 0.7910 - val_loss: 0.5190 - val_acc: 0.7812\n",
            "Epoch 49/50\n",
            "150/150 - 79s - loss: 0.4573 - acc: 0.7917 - val_loss: 0.5441 - val_acc: 0.7828\n",
            "Epoch 50/50\n",
            "150/150 - 78s - loss: 0.4541 - acc: 0.7930 - val_loss: 0.4722 - val_acc: 0.7964\n"
          ],
          "name": "stdout"
        }
      ]
    },
    {
      "cell_type": "code",
      "metadata": {
        "id": "XF0bkNqFAd1Q",
        "colab": {
          "base_uri": "https://localhost:8080/",
          "height": 545
        },
        "outputId": "5bc5d25a-83eb-4e6f-b983-c84506177c10"
      },
      "source": [
        "acc = history.history['acc']\n",
        "val_acc = history.history['val_acc']\n",
        "loss = history.history['loss']\n",
        "val_loss = history.history['val_loss']\n",
        "\n",
        "epoch = range(len(acc))\n",
        "\n",
        "plt.title('Accuracy vs Validation-Accuracy')\n",
        "plt.plot(epoch,acc,label='Accuracy')\n",
        "plt.plot(epoch,val_acc,label='Validation-Accuracy')\n",
        "plt.legend()\n",
        "plt.figure()\n",
        "\n",
        "plt.title('Loss vs Validation-Loss')\n",
        "plt.plot(epoch,loss,label='Loss')\n",
        "plt.plot(epoch,val_loss,label='Validation-Loss')\n",
        "plt.legend()\n",
        "plt.show()"
      ],
      "execution_count": 25,
      "outputs": [
        {
          "output_type": "display_data",
          "data": {
            "image/png": "[encoded data removed]",
            "text/plain": [
              "<Figure size 432x288 with 1 Axes>"
            ]
          },
          "metadata": {
            "tags": [],
            "needs_background": "light"
          }
        },
        {
          "output_type": "display_data",
          "data": {
            "image/png": "[encoded data removed]",
            "text/plain": [
              "<Figure size 432x288 with 1 Axes>"
            ]
          },
          "metadata": {
            "tags": [],
            "needs_background": "light"
          }
        }
      ]
    },
    {
      "cell_type": "markdown",
      "metadata": {
        "id": "NbO9zEdiQF7_"
      },
      "source": [
        "# Validation"
      ]
    },
    {
      "cell_type": "code",
      "metadata": {
        "colab": {
          "base_uri": "https://localhost:8080/"
        },
        "id": "iqHnxjVXjmrV",
        "outputId": "f53be574-f7bf-45a1-8ed2-6cbbd01e2bf2"
      },
      "source": [
        "!wget --no-check-certificate \\\n",
        "    https://storage.googleapis.com/mledu-datasets/inception_v3_weights_tf_dim_ordering_tf_kernels_notop.h5 \\\n",
        "    -O /tmp/inception_v3_weights_tf_dim_ordering_tf_kernels_notop.h5\n"
      ],
      "execution_count": 35,
      "outputs": [
        {
          "output_type": "stream",
          "text": [
            "--2021-08-15 20:57:52--  https://storage.googleapis.com/mledu-datasets/inception_v3_weights_tf_dim_ordering_tf_kernels_notop.h5\n",
            "Resolving storage.googleapis.com (storage.googleapis.com)... 142.250.101.128, 142.250.141.128, 142.251.2.128, ...\n",
            "Connecting to storage.googleapis.com (storage.googleapis.com)|142.250.101.128|:443... connected.\n",
            "HTTP request sent, awaiting response... 200 OK\n",
            "Length: 87910968 (84M) [application/x-hdf]\n",
            "Saving to: ‘/tmp/inception_v3_weights_tf_dim_ordering_tf_kernels_notop.h5’\n",
            "\n",
            "/tmp/inception_v3_w 100%[===================>]  83.84M   102MB/s    in 0.8s    \n",
            "\n",
            "2021-08-15 20:57:53 (102 MB/s) - ‘/tmp/inception_v3_weights_tf_dim_ordering_tf_kernels_notop.h5’ saved [87910968/87910968]\n",
            "\n"
          ],
          "name": "stdout"
        }
      ]
    },
    {
      "cell_type": "code",
      "metadata": {
        "colab": {
          "base_uri": "https://localhost:8080/",
          "height": 244
        },
        "id": "X0-HMV1hlzoJ",
        "outputId": "fbc03f5d-f19b-4795-f24d-17684a4a78d1"
      },
      "source": [
        "model2 = tf.keras.models.Sequential([\n",
        "    tf.keras.layers.Conv2D(16, (3,3), activation='relu', input_shape=(150,150,3)),\n",
        "    tf.keras.layers.MaxPooling2D(2,2),\n",
        "    tf.keras.layers.Conv2D(32, (3,3), activation='relu'),\n",
        "    tf.keras.layers.MaxPooling2D(2,2),\n",
        "    tf.keras.layers.Conv2D(64, (3,3), activation='relu'),\n",
        "    tf.keras.layers.MaxPooling2D(2,2),\n",
        "    tf.keras.layers.Flatten(),\n",
        "    tf.keras.layers.Dense(512, activation='relu'),\n",
        "    tf.keras.layers.Dropout(0.2),\n",
        "    tf.keras.layers.Dense(1, activation='sigmoid')\n",
        "])\n",
        "\n",
        "model2.compile(optimizer=tf.keras.optimizers.RMSprop(learning_rate=0.1),\n",
        "             loss='binary_crossentropy',\n",
        "             metrics=['accuracy'])\n",
        "\n",
        "model2.summary()"
      ],
      "execution_count": 2,
      "outputs": [
        {
          "output_type": "error",
          "ename": "NameError",
          "evalue": "ignored",
          "traceback": [
            "\u001b[0;31m---------------------------------------------------------------------------\u001b[0m",
            "\u001b[0;31mNameError\u001b[0m                                 Traceback (most recent call last)",
            "\u001b[0;32m<ipython-input-2-ddc20a6adf9d>\u001b[0m in \u001b[0;36m<module>\u001b[0;34m()\u001b[0m\n\u001b[0;32m----> 1\u001b[0;31m model2 = tf.keras.models.Sequential([\n\u001b[0m\u001b[1;32m      2\u001b[0m     \u001b[0mtf\u001b[0m\u001b[0;34m.\u001b[0m\u001b[0mkeras\u001b[0m\u001b[0;34m.\u001b[0m\u001b[0mlayers\u001b[0m\u001b[0;34m.\u001b[0m\u001b[0mConv2D\u001b[0m\u001b[0;34m(\u001b[0m\u001b[0;36m16\u001b[0m\u001b[0;34m,\u001b[0m \u001b[0;34m(\u001b[0m\u001b[0;36m3\u001b[0m\u001b[0;34m,\u001b[0m\u001b[0;36m3\u001b[0m\u001b[0;34m)\u001b[0m\u001b[0;34m,\u001b[0m \u001b[0mactivation\u001b[0m\u001b[0;34m=\u001b[0m\u001b[0;34m'relu'\u001b[0m\u001b[0;34m,\u001b[0m \u001b[0minput_shape\u001b[0m\u001b[0;34m=\u001b[0m\u001b[0;34m(\u001b[0m\u001b[0;36m150\u001b[0m\u001b[0;34m,\u001b[0m\u001b[0;36m150\u001b[0m\u001b[0;34m,\u001b[0m\u001b[0;36m3\u001b[0m\u001b[0;34m)\u001b[0m\u001b[0;34m)\u001b[0m\u001b[0;34m,\u001b[0m\u001b[0;34m\u001b[0m\u001b[0;34m\u001b[0m\u001b[0m\n\u001b[1;32m      3\u001b[0m     \u001b[0mtf\u001b[0m\u001b[0;34m.\u001b[0m\u001b[0mkeras\u001b[0m\u001b[0;34m.\u001b[0m\u001b[0mlayers\u001b[0m\u001b[0;34m.\u001b[0m\u001b[0mMaxPooling2D\u001b[0m\u001b[0;34m(\u001b[0m\u001b[0;36m2\u001b[0m\u001b[0;34m,\u001b[0m\u001b[0;36m2\u001b[0m\u001b[0;34m)\u001b[0m\u001b[0;34m,\u001b[0m\u001b[0;34m\u001b[0m\u001b[0;34m\u001b[0m\u001b[0m\n\u001b[1;32m      4\u001b[0m     \u001b[0mtf\u001b[0m\u001b[0;34m.\u001b[0m\u001b[0mkeras\u001b[0m\u001b[0;34m.\u001b[0m\u001b[0mlayers\u001b[0m\u001b[0;34m.\u001b[0m\u001b[0mConv2D\u001b[0m\u001b[0;34m(\u001b[0m\u001b[0;36m32\u001b[0m\u001b[0;34m,\u001b[0m \u001b[0;34m(\u001b[0m\u001b[0;36m3\u001b[0m\u001b[0;34m,\u001b[0m\u001b[0;36m3\u001b[0m\u001b[0;34m)\u001b[0m\u001b[0;34m,\u001b[0m \u001b[0mactivation\u001b[0m\u001b[0;34m=\u001b[0m\u001b[0;34m'relu'\u001b[0m\u001b[0;34m)\u001b[0m\u001b[0;34m,\u001b[0m\u001b[0;34m\u001b[0m\u001b[0;34m\u001b[0m\u001b[0m\n\u001b[1;32m      5\u001b[0m     \u001b[0mtf\u001b[0m\u001b[0;34m.\u001b[0m\u001b[0mkeras\u001b[0m\u001b[0;34m.\u001b[0m\u001b[0mlayers\u001b[0m\u001b[0;34m.\u001b[0m\u001b[0mMaxPooling2D\u001b[0m\u001b[0;34m(\u001b[0m\u001b[0;36m2\u001b[0m\u001b[0;34m,\u001b[0m\u001b[0;36m2\u001b[0m\u001b[0;34m)\u001b[0m\u001b[0;34m,\u001b[0m\u001b[0;34m\u001b[0m\u001b[0;34m\u001b[0m\u001b[0m\n",
            "\u001b[0;31mNameError\u001b[0m: name 'tf' is not defined"
          ]
        }
      ]
    },
    {
      "cell_type": "code",
      "metadata": {
        "colab": {
          "base_uri": "https://localhost:8080/"
        },
        "id": "6IZpWrUImXwL",
        "outputId": "532b73dd-2b16-42c5-9449-fb6e983ba0ec"
      },
      "source": [
        "train_datagen_aug = ImageDataGenerator(rescale=1/255,\n",
        "                                  rotation_range=40,\n",
        "                                  width_shift_range=0.2,\n",
        "                                  height_shift_range=0.2,\n",
        "                                  shear_range=0.2,\n",
        "                                  zoom_range=0.2,\n",
        "                                  horizontal_flip=True,\n",
        "                                  fill_mode='nearest')\n",
        "\n",
        "# NOTE: YOU MUST USE A BATCH SIZE OF 10 (batch_size=10) FOR THE \n",
        "# TRAIN GENERATOR.\n",
        "train_generator_aug = train_datagen_aug.flow_from_directory(train,\n",
        "                                                   batch_size=10,\n",
        "                                                   class_mode='binary',\n",
        "                                                   target_size=(150,150))\n",
        "\n",
        "validation_datagen_aug = ImageDataGenerator(rescale=1./255,\n",
        "      rotation_range=40,\n",
        "      width_shift_range=0.2,\n",
        "      height_shift_range=0.2,\n",
        "      shear_range=0.2,\n",
        "      zoom_range=0.2,\n",
        "      horizontal_flip=True,\n",
        "      fill_mode='nearest')\n",
        "\n",
        "# NOTE: YOU MUST USE A BACTH SIZE OF 10 (batch_size=10) FOR THE \n",
        "# VALIDATION GENERATOR.\n",
        "validation_generator_aug = validation_datagen_aug.flow_from_directory(validation,\n",
        "                                                              batch_size=100,\n",
        "                                                              class_mode='binary',\n",
        "                                                              target_size=(150, 150))"
      ],
      "execution_count": 48,
      "outputs": [
        {
          "output_type": "stream",
          "text": [
            "Found 20000 images belonging to 2 classes.\n",
            "Found 5000 images belonging to 2 classes.\n"
          ],
          "name": "stdout"
        }
      ]
    },
    {
      "cell_type": "code",
      "metadata": {
        "colab": {
          "base_uri": "https://localhost:8080/",
          "height": 244
        },
        "id": "SwwbZVZWojc8",
        "outputId": "f6968d8a-9175-40aa-e6e5-358a7a732350"
      },
      "source": [
        "history2 = model2.fit(train_generator_aug,\n",
        "                   validation_data=validation_generator_aug,\n",
        "                   steps_per_epoch=100,\n",
        "                   epochs=15,\n",
        "                   validation_steps=50,\n",
        "                   verbose=2)"
      ],
      "execution_count": 1,
      "outputs": [
        {
          "output_type": "error",
          "ename": "NameError",
          "evalue": "ignored",
          "traceback": [
            "\u001b[0;31m---------------------------------------------------------------------------\u001b[0m",
            "\u001b[0;31mNameError\u001b[0m                                 Traceback (most recent call last)",
            "\u001b[0;32m<ipython-input-1-afed14b3c115>\u001b[0m in \u001b[0;36m<module>\u001b[0;34m()\u001b[0m\n\u001b[0;32m----> 1\u001b[0;31m history2 = model2.fit(train_generator_aug,\n\u001b[0m\u001b[1;32m      2\u001b[0m                    \u001b[0mvalidation_data\u001b[0m\u001b[0;34m=\u001b[0m\u001b[0mvalidation_generator_aug\u001b[0m\u001b[0;34m,\u001b[0m\u001b[0;34m\u001b[0m\u001b[0;34m\u001b[0m\u001b[0m\n\u001b[1;32m      3\u001b[0m                    \u001b[0msteps_per_epoch\u001b[0m\u001b[0;34m=\u001b[0m\u001b[0;36m100\u001b[0m\u001b[0;34m,\u001b[0m\u001b[0;34m\u001b[0m\u001b[0;34m\u001b[0m\u001b[0m\n\u001b[1;32m      4\u001b[0m                    \u001b[0mepochs\u001b[0m\u001b[0;34m=\u001b[0m\u001b[0;36m15\u001b[0m\u001b[0;34m,\u001b[0m\u001b[0;34m\u001b[0m\u001b[0;34m\u001b[0m\u001b[0m\n\u001b[1;32m      5\u001b[0m                    \u001b[0mvalidation_steps\u001b[0m\u001b[0;34m=\u001b[0m\u001b[0;36m50\u001b[0m\u001b[0;34m,\u001b[0m\u001b[0;34m\u001b[0m\u001b[0;34m\u001b[0m\u001b[0m\n",
            "\u001b[0;31mNameError\u001b[0m: name 'model2' is not defined"
          ]
        }
      ]
    }
  ]
}