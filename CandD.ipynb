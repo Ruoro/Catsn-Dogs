{
  "nbformat": 4,
  "nbformat_minor": 0,
  "metadata": {
    "colab": {
      "name": "CandD.ipynb",
      "provenance": [],
      "mount_file_id": "1gNlMO_tUJl0_mnLDxcIYaRKxzgOlXEb6",
      "authorship_tag": "ABX9TyOZEzsiLtrJWJPos9/OvNVB",
      "include_colab_link": true
    },
    "kernelspec": {
      "name": "python3",
      "display_name": "Python 3"
    },
    "language_info": {
      "name": "python"
    }
  },
  "cells": [
    {
      "cell_type": "markdown",
      "metadata": {
        "id": "view-in-github",
        "colab_type": "text"
      },
      "source": [
        "<a href=\"https://colab.research.google.com/github/ruoroj/Catsn-Dogs/blob/main/CandD.ipynb\" target=\"_parent\"><img src=\"https://colab.research.google.com/assets/colab-badge.svg\" alt=\"Open In Colab\"/></a>"
      ]
    },
    {
      "cell_type": "markdown",
      "metadata": {
        "id": "fx6ICuz7OVca"
      },
      "source": [
        "# 1. Defining the Question"
      ]
    },
    {
      "cell_type": "markdown",
      "metadata": {
        "id": "yIEM3JyuOqny"
      },
      "source": [
        "### Understanding the Context"
      ]
    },
    {
      "cell_type": "markdown",
      "metadata": {
        "id": "yayBVuEFO6aO"
      },
      "source": [
        "The database is composed of several hundred images of cats and Dogs. Using these images we will train a amchine learning model to predict the difference between cats and dogs. "
      ]
    },
    {
      "cell_type": "markdown",
      "metadata": {
        "id": "8lR1IYJWPD91"
      },
      "source": [
        "### Specifying the Question"
      ]
    },
    {
      "cell_type": "markdown",
      "metadata": {
        "id": "Cf7rnqX2PF7E"
      },
      "source": [
        "The database has picture of cats and dogs that should be used to cllasify a picture as either a dog or cat. "
      ]
    },
    {
      "cell_type": "markdown",
      "metadata": {
        "id": "nyrdtMHtPKWO"
      },
      "source": [
        "### Metrics for Success"
      ]
    },
    {
      "cell_type": "markdown",
      "metadata": {
        "id": "XjGSWdwOPPW2"
      },
      "source": [
        "The metric of success for this project is the model accuracy. The model accuracy shows how well a particular model predicts the dependent variable when tested after training it. The accuracy will be derived using the accuracy score. An accuracy that is low shows our model fails to accurately predict the dependent variable and the data may be underfit while an accuracy of 1 is not good either since the model is overfitted. In this project, my aim is to achieve an accuracy of at least 80%."
      ]
    },
    {
      "cell_type": "markdown",
      "metadata": {
        "id": "VxD8GEyIPUMQ"
      },
      "source": [
        "### The Experimental Design"
      ]
    },
    {
      "cell_type": "markdown",
      "metadata": {
        "id": "17prGPGCPZSq"
      },
      "source": [
        "The experimental design for this project is as follows:\n",
        "\n",
        "- Loading the libraries and dataset\n",
        "- Data cleaning and preparation\n",
        "- Making predictions using the different models that I've created\n",
        "- Assesing the accuracy of the models created\n",
        "- Making conclusions and challenging the solution"
      ]
    },
    {
      "cell_type": "markdown",
      "metadata": {
        "id": "yhy40BQ4Pqcs"
      },
      "source": [
        "# 2. Reading the Data"
      ]
    },
    {
      "cell_type": "code",
      "metadata": {
        "id": "p2J-51H3Ncne"
      },
      "source": [
        "import pandas as pd\n",
        "pd.options.display.float_format = \"{:.2f}\".format\n",
        "import numpy as np\n",
        "import os\n",
        "import matplotlib.pyplot as plt\n",
        "import seaborn as sns\n",
        "from sklearn.model_selection import train_test_split\n",
        "from sklearn.neighbors import KNeighborsRegressor\n",
        "from sklearn.linear_model import Ridge\n",
        "from sklearn.linear_model import ElasticNet\n",
        "from sklearn.discriminant_analysis import LinearDiscriminantAnalysis as lda\n",
        "from sklearn.linear_model import LinearRegression\n",
        "from sklearn.metrics import r2_score\n",
        "from sklearn import metrics\n",
        "from sklearn.ensemble import RandomForestClassifier\n",
        "from sklearn.neighbors import KNeighborsClassifier\n",
        "from sklearn.ensemble import GradientBoostingClassifier\n",
        "from sklearn import metrics\n",
        "from sklearn.svm import SVC\n",
        "from sklearn.metrics import confusion_matrix,accuracy_score, classification_report\n",
        "from sklearn.preprocessing import StandardScaler\n",
        "from sklearn.tree import DecisionTreeRegressor\n",
        "from sklearn.svm import SVR\n",
        "from sklearn.model_selection import GridSearchCV\n",
        "from sklearn import linear_model\n",
        "from sklearn.linear_model import Lasso\n",
        "from sklearn.preprocessing import PolynomialFeatures\n",
        "import statsmodels.regression.quantile_regression as quant\n",
        "import scipy as sp\n",
        "import tensorflow as tf\n",
        "import warnings\n",
        "from sklearn.ensemble import AdaBoostClassifier\n",
        "from sklearn.tree import DecisionTreeClassifier\n",
        "warnings.filterwarnings('ignore')\n",
        "\n",
        "from sklearn.preprocessing import LabelEncoder\n",
        "lb=LabelEncoder()"
      ],
      "execution_count": 21,
      "outputs": []
    },
    {
      "cell_type": "code",
      "metadata": {
        "id": "cMPtj_ctXJb3"
      },
      "source": [
        "import numpy as np\n",
        "import os\n",
        "import PIL\n",
        "import PIL.Image\n",
        "import tensorflow as tf\n",
        "import tensorflow_datasets as tfds"
      ],
      "execution_count": 22,
      "outputs": []
    },
    {
      "cell_type": "code",
      "metadata": {
        "id": "HlCI3tLGOVGj"
      },
      "source": [
        "from zipfile import ZipFile as zf\n",
        "test_zip = zf('/content/drive/MyDrive/tempdf_storage/cand/test1.zip', 'r')\n",
        "test_zip.extractall()\n",
        "test_zip.close()\n",
        "img_files = os.listdir('/content/drive/MyDrive/tempdf_storage/cand/CandD')\n",
        "testfiles = os.listdir('/content/test1')"
      ],
      "execution_count": 36,
      "outputs": []
    },
    {
      "cell_type": "code",
      "metadata": {
        "id": "d9MxXanYOU6v"
      },
      "source": [
        "\n",
        "train = pd.DataFrame(x,columns = ['filename'])\n",
        "testfiles"
      ],
      "execution_count": null,
      "outputs": []
    },
    {
      "cell_type": "code",
      "metadata": {
        "id": "dtScY-4WV155",
        "colab": {
          "base_uri": "https://localhost:8080/",
          "height": 203
        },
        "outputId": "4c57466d-40da-4bd4-a453-221905407924"
      },
      "source": [
        "train['label'] = train['filename'].str.split('.',1,expand = True)[0]\n",
        "train.head()\n",
        "test = pd.DataFrame(os.listdir('/content/test1'),columns = ['filename'])\n",
        "test.head()"
      ],
      "execution_count": 38,
      "outputs": [
        {
          "output_type": "execute_result",
          "data": {
            "text/html": [
              "<div>\n",
              "<style scoped>\n",
              "    .dataframe tbody tr th:only-of-type {\n",
              "        vertical-align: middle;\n",
              "    }\n",
              "\n",
              "    .dataframe tbody tr th {\n",
              "        vertical-align: top;\n",
              "    }\n",
              "\n",
              "    .dataframe thead th {\n",
              "        text-align: right;\n",
              "    }\n",
              "</style>\n",
              "<table border=\"1\" class=\"dataframe\">\n",
              "  <thead>\n",
              "    <tr style=\"text-align: right;\">\n",
              "      <th></th>\n",
              "      <th>filename</th>\n",
              "    </tr>\n",
              "  </thead>\n",
              "  <tbody>\n",
              "    <tr>\n",
              "      <th>0</th>\n",
              "      <td>9267.jpg</td>\n",
              "    </tr>\n",
              "    <tr>\n",
              "      <th>1</th>\n",
              "      <td>6266.jpg</td>\n",
              "    </tr>\n",
              "    <tr>\n",
              "      <th>2</th>\n",
              "      <td>11357.jpg</td>\n",
              "    </tr>\n",
              "    <tr>\n",
              "      <th>3</th>\n",
              "      <td>10113.jpg</td>\n",
              "    </tr>\n",
              "    <tr>\n",
              "      <th>4</th>\n",
              "      <td>10297.jpg</td>\n",
              "    </tr>\n",
              "  </tbody>\n",
              "</table>\n",
              "</div>"
            ],
            "text/plain": [
              "    filename\n",
              "0   9267.jpg\n",
              "1   6266.jpg\n",
              "2  11357.jpg\n",
              "3  10113.jpg\n",
              "4  10297.jpg"
            ]
          },
          "metadata": {
            "tags": []
          },
          "execution_count": 38
        }
      ]
    },
    {
      "cell_type": "markdown",
      "metadata": {
        "id": "w6t4Jiq0UhmX"
      },
      "source": [
        "# Data cleaning."
      ]
    },
    {
      "cell_type": "markdown",
      "metadata": {
        "id": "-gSBb10AUmM_"
      },
      "source": [
        "### Train files"
      ]
    },
    {
      "cell_type": "code",
      "metadata": {
        "colab": {
          "base_uri": "https://localhost:8080/"
        },
        "id": "-jB-phT_Uo1c",
        "outputId": "17d6fd57-cf3c-42c9-b3e9-ee0837179ebb"
      },
      "source": [
        "# Checking whether data is balanced or not (Vissually)\n",
        "train.label.value_counts()"
      ],
      "execution_count": 43,
      "outputs": [
        {
          "output_type": "execute_result",
          "data": {
            "text/plain": [
              "dog    12510\n",
              "cat    12500\n",
              "Name: label, dtype: int64"
            ]
          },
          "metadata": {
            "tags": []
          },
          "execution_count": 43
        }
      ]
    },
    {
      "cell_type": "code",
      "metadata": {
        "colab": {
          "base_uri": "https://localhost:8080/",
          "height": 291
        },
        "id": "cOr3IxnhUdXO",
        "outputId": "5e68b3cb-188e-4cc5-f197-3b0e3e6fa94f"
      },
      "source": [
        "# Checking whether data is balanced or not (Vissually)\n",
        "train['label'].value_counts().plot.bar()"
      ],
      "execution_count": 40,
      "outputs": [
        {
          "output_type": "execute_result",
          "data": {
            "text/plain": [
              "<matplotlib.axes._subplots.AxesSubplot at 0x7fbb154ba110>"
            ]
          },
          "metadata": {
            "tags": []
          },
          "execution_count": 40
        },
        {
          "output_type": "display_data",
          "data": {
            "image/png": "[encoded data removed]",
            "text/plain": [
              "<Figure size 432x288 with 1 Axes>"
            ]
          },
          "metadata": {
            "tags": [],
            "needs_background": "light"
          }
        }
      ]
    },
    {
      "cell_type": "code",
      "metadata": {
        "colab": {
          "base_uri": "https://localhost:8080/"
        },
        "id": "6JshLj5G5Vv9",
        "outputId": "1ebc41a9-e4cc-44eb-a510-601fa9d343b3"
      },
      "source": [
        "# check for Duplicated values. \n",
        "train.duplicated().sum()"
      ],
      "execution_count": 41,
      "outputs": [
        {
          "output_type": "execute_result",
          "data": {
            "text/plain": [
              "0"
            ]
          },
          "metadata": {
            "tags": []
          },
          "execution_count": 41
        }
      ]
    },
    {
      "cell_type": "code",
      "metadata": {
        "id": "GBngiSj-5sCn"
      },
      "source": [
        ""
      ],
      "execution_count": null,
      "outputs": []
    }
  ]
}