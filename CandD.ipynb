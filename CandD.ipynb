{
  "nbformat": 4,
  "nbformat_minor": 0,
  "metadata": {
    "colab": {
      "name": "CandD.ipynb",
      "provenance": [],
      "mount_file_id": "1gNlMO_tUJl0_mnLDxcIYaRKxzgOlXEb6",
      "authorship_tag": "ABX9TyME37wKESJuilXN7mBXPk5A",
      "include_colab_link": true
    },
    "kernelspec": {
      "name": "python3",
      "display_name": "Python 3"
    },
    "language_info": {
      "name": "python"
    }
  },
  "cells": [
    {
      "cell_type": "markdown",
      "metadata": {
        "id": "view-in-github",
        "colab_type": "text"
      },
      "source": [
        "<a href=\"https://colab.research.google.com/github/ruoroj/Catsn-Dogs/blob/main/CandD.ipynb\" target=\"_parent\"><img src=\"https://colab.research.google.com/assets/colab-badge.svg\" alt=\"Open In Colab\"/></a>"
      ]
    },
    {
      "cell_type": "markdown",
      "metadata": {
        "id": "fx6ICuz7OVca"
      },
      "source": [
        "# 1. Defining the Question"
      ]
    },
    {
      "cell_type": "markdown",
      "metadata": {
        "id": "yIEM3JyuOqny"
      },
      "source": [
        "### Understanding the Context"
      ]
    },
    {
      "cell_type": "markdown",
      "metadata": {
        "id": "yayBVuEFO6aO"
      },
      "source": [
        "The database is composed of several hundred images of cats and Dogs. Using these images we will train a amchine learning model to predict the difference between cats and dogs. "
      ]
    },
    {
      "cell_type": "markdown",
      "metadata": {
        "id": "8lR1IYJWPD91"
      },
      "source": [
        "### Specifying the Question"
      ]
    },
    {
      "cell_type": "markdown",
      "metadata": {
        "id": "Cf7rnqX2PF7E"
      },
      "source": [
        "The database has picture of cats and dogs that should be used to cllasify a picture as either a dog or cat. "
      ]
    },
    {
      "cell_type": "markdown",
      "metadata": {
        "id": "nyrdtMHtPKWO"
      },
      "source": [
        "### Metrics for Success"
      ]
    },
    {
      "cell_type": "markdown",
      "metadata": {
        "id": "XjGSWdwOPPW2"
      },
      "source": [
        "The metric of success for this project is the model accuracy. The model accuracy shows how well a particular model predicts the dependent variable when tested after training it. The accuracy will be derived using the accuracy score. An accuracy that is low shows our model fails to accurately predict the dependent variable and the data may be underfit while an accuracy of 1 is not good either since the model is overfitted. In this project, my aim is to achieve an accuracy of at least 80%."
      ]
    },
    {
      "cell_type": "markdown",
      "metadata": {
        "id": "VxD8GEyIPUMQ"
      },
      "source": [
        "### The Experimental Design"
      ]
    },
    {
      "cell_type": "markdown",
      "metadata": {
        "id": "17prGPGCPZSq"
      },
      "source": [
        "The experimental design for this project is as follows:\n",
        "\n",
        "- Loading the libraries and dataset\n",
        "- Data cleaning and preparation\n",
        "- Making predictions using the different models that I've created\n",
        "- Assesing the accuracy of the models created\n",
        "- Making conclusions and challenging the solution"
      ]
    },
    {
      "cell_type": "markdown",
      "metadata": {
        "id": "yhy40BQ4Pqcs"
      },
      "source": [
        "# 2. Reading the Data"
      ]
    },
    {
      "cell_type": "code",
      "metadata": {
        "id": "p2J-51H3Ncne",
        "colab": {
          "base_uri": "https://localhost:8080/"
        },
        "outputId": "0a7b7f79-1d51-4293-ff86-ba16e56014b6"
      },
      "source": [
        "import pandas as pd\n",
        "pd.options.display.float_format = \"{:.2f}\".format\n",
        "import numpy as np\n",
        "import os\n",
        "import matplotlib.pyplot as plt\n",
        "import matplotlib.image as mpimg\n",
        "import seaborn as sns\n",
        "from sklearn.model_selection import train_test_split\n",
        "from sklearn.metrics import r2_score\n",
        "from sklearn import metrics\n",
        "from sklearn.metrics import confusion_matrix,accuracy_score, classification_report\n",
        "from sklearn.preprocessing import StandardScaler\n",
        "import scipy as sp\n",
        "import tensorflow as tf\n",
        "import warnings\n",
        "import cv2\n",
        "\n",
        "warnings.filterwarnings('ignore')\n",
        "\n",
        "from sklearn.preprocessing import LabelEncoder\n",
        "lb=LabelEncoder()\n",
        "from google.colab import drive\n",
        "drive.mount('/content/drive')\n",
        "from zipfile import ZipFile as zf\n",
        "import shutil\n",
        "import random\n",
        "from matplotlib import pyplot as plt\n",
        "\n"
      ],
      "execution_count": null,
      "outputs": [
        {
          "output_type": "stream",
          "text": [
            "Drive already mounted at /content/drive; to attempt to forcibly remount, call drive.mount(\"/content/drive\", force_remount=True).\n"
          ],
          "name": "stdout"
        }
      ]
    },
    {
      "cell_type": "code",
      "metadata": {
        "id": "HlCI3tLGOVGj"
      },
      "source": [
        "# EXTRACT THE DATA FROM G-DRIVE\n",
        "test_zip = zf('/content/drive/MyDrive/tempdf_storage/cand/test1.zip', 'r')\n",
        "test_zip.extractall('./tmp')\n",
        "test_zip.close()\n",
        "train_zip = zf('/content/drive/MyDrive/tempdf_storage/cand/train.zip', 'r')\n",
        "train_zip.extractall('./tmp')\n",
        "train_zip.close()"
      ],
      "execution_count": null,
      "outputs": []
    },
    {
      "cell_type": "code",
      "metadata": {
        "colab": {
          "base_uri": "https://localhost:8080/",
          "height": 269
        },
        "id": "NZAU662kqjeW",
        "outputId": "7ec384d0-54db-4e41-f5cf-b07d2d89c85d"
      },
      "source": [
        "# Checking if there is content in the train data\n",
        "train_data = '/content/tmp/train/'\n",
        "\n",
        "x = os.listdir(train_data)\n",
        "for img in os.listdir(train_data):\n",
        "  img_array = cv2.imread(os.path.join(train_data, img))\n",
        "  plt.imshow(img_array)\n",
        "  plt.show()\n",
        "  break"
      ],
      "execution_count": null,
      "outputs": [
        {
          "output_type": "display_data",
          "data": {
            "image/png": "[encoded data removed]",
            "text/plain": [
              "<Figure size 432x288 with 1 Axes>"
            ]
          },
          "metadata": {
            "tags": [],
            "needs_background": "light"
          }
        }
      ]
    },
    {
      "cell_type": "code",
      "metadata": {
        "id": "Q_I4kS9h9JpB"
      },
      "source": [
        "# Making a directory to store cata and dog pictures separately.\n",
        "images = './tmp/train'\n",
        "pet_images = './pet-images'\n",
        "cats = os.path.join(pet_images,'cat')\n",
        "dogs = os.path.join(pet_images,'dog')\n",
        "os.mkdir(pet_images)\n",
        "os.mkdir(cats)\n",
        "os.mkdir(dogs)"
      ],
      "execution_count": null,
      "outputs": []
    },
    {
      "cell_type": "code",
      "metadata": {
        "id": "Tjs6EoVqsm-2"
      },
      "source": [
        "# Spliting the cats and dog images into different folders\n",
        "for i in os.listdir(images):\n",
        "    if i.split('.')[0] == 'cat':\n",
        "        src = os.path.join(images,i)\n",
        "        dst = os.path.join(cats,i)\n",
        "        shutil.copyfile(src,dst)\n",
        "    elif i.split('.')[0] == 'dog':\n",
        "        src = os.path.join(images,i)\n",
        "        dst = os.path.join(dogs,i)\n",
        "        shutil.copyfile(src,dst)"
      ],
      "execution_count": null,
      "outputs": []
    },
    {
      "cell_type": "code",
      "metadata": {
        "colab": {
          "base_uri": "https://localhost:8080/"
        },
        "id": "xcBoKtPl9o5p",
        "outputId": "74652fa5-2ab8-4ef8-a240-da8614230a33"
      },
      "source": [
        "# check the number of images in each folder\n",
        "print(len(os.listdir(cats)))\n",
        "print(len(os.listdir(dogs)))"
      ],
      "execution_count": null,
      "outputs": [
        {
          "output_type": "stream",
          "text": [
            "12500\n",
            "12500\n"
          ],
          "name": "stdout"
        }
      ]
    },
    {
      "cell_type": "code",
      "metadata": {
        "id": "ZIMqrJWNsm7g"
      },
      "source": [
        "# spliting the images into training and validation sets\n",
        "base_dir = './dogs-vs-cats'\n",
        "os.mkdir(base_dir)\n",
        "train = os.path.join(base_dir,'training')\n",
        "validation = os.path.join(base_dir,'validation')\n",
        "train_cat = os.path.join(train,'cats')\n",
        "train_dog = os.path.join(train,'dogs')\n",
        "validation_cat = os.path.join(validation,'cats')\n",
        "validation_dog = os.path.join(validation,'dogs')\n"
      ],
      "execution_count": null,
      "outputs": []
    },
    {
      "cell_type": "code",
      "metadata": {
        "id": "MXc07QGJsm5J"
      },
      "source": [
        "# Defining the test folder and populating it with data\n",
        "\n",
        "test_images = './tmp/test1'\n",
        "test = os.path.join(base_dir,'test')\n",
        "test_folder = os.path.join(test,'test_folder')\n",
        "os.mkdir(test)\n",
        "os.mkdir(test_folder)\n",
        "\n",
        "for i in os.listdir(test_images):\n",
        "    src = os.path.join(test_images,i)\n",
        "    dst = os.path.join(test_folder,i)\n",
        "    shutil.copyfile(src,dst)"
      ],
      "execution_count": null,
      "outputs": []
    },
    {
      "cell_type": "code",
      "metadata": {
        "id": "rifLCsyOsm2d",
        "colab": {
          "base_uri": "https://localhost:8080/"
        },
        "outputId": "e55ce52b-0876-49d8-c9e7-d35b1e3ae995"
      },
      "source": [
        "# Check the length of the test folder\n",
        "print(len(os.listdir(test_folder)))"
      ],
      "execution_count": null,
      "outputs": [
        {
          "output_type": "stream",
          "text": [
            "12500\n"
          ],
          "name": "stdout"
        }
      ]
    },
    {
      "cell_type": "code",
      "metadata": {
        "id": "oCcD0nFOypPb"
      },
      "source": [
        "# Making the directories of the train, and validation datasets. \n",
        "\n",
        "os.mkdir(train)\n",
        "os.mkdir(validation)\n",
        "os.mkdir(train_cat)\n",
        "os.mkdir(train_dog)\n",
        "os.mkdir(validation_cat)\n",
        "os.mkdir(validation_dog)"
      ],
      "execution_count": null,
      "outputs": []
    },
    {
      "cell_type": "code",
      "metadata": {
        "id": "d9MxXanYOU6v"
      },
      "source": [
        "# Defining Function of spliting the dataset into \n",
        "\n",
        "def split_data(source,training,validation,split):\n",
        "    data = os.listdir(source)\n",
        "    data = random.sample(data,len(data))\n",
        "    for id,file in enumerate(data):\n",
        "        if (os.path.getsize(source) != 0) and (id < len(data) * split):\n",
        "            src = os.path.join(source,file)\n",
        "            dst = os.path.join(training,file)\n",
        "            shutil.copyfile(src,dst)\n",
        "        elif (os.path.getsize(source) != 0) and (id >= len(data) * split):\n",
        "            src = os.path.join(source,file)\n",
        "            dst = os.path.join(validation,file)\n",
        "            shutil.copyfile(src,dst)\n",
        "            \n",
        "split = 0.8\n",
        "split_data(cats,train_cat,validation_cat,split)\n",
        "split_data(dogs,train_dog,validation_dog,split)"
      ],
      "execution_count": null,
      "outputs": []
    },
    {
      "cell_type": "code",
      "metadata": {
        "colab": {
          "base_uri": "https://localhost:8080/"
        },
        "id": "d3EKuVI-4MNU",
        "outputId": "3ea6cf54-3198-4102-940e-cd7e8d6ba87f"
      },
      "source": [
        "# Check the lenght of the differnet splits\n",
        "\n",
        "print(len(os.listdir(train_cat)))\n",
        "print(len(os.listdir(train_dog)))\n",
        "print(len(os.listdir(validation_cat)))\n",
        "print(len(os.listdir(validation_dog)))"
      ],
      "execution_count": null,
      "outputs": [
        {
          "output_type": "stream",
          "text": [
            "10000\n",
            "10000\n",
            "2500\n",
            "2500\n"
          ],
          "name": "stdout"
        }
      ]
    },
    {
      "cell_type": "markdown",
      "metadata": {
        "id": "Q2rgnTM2Aodd"
      },
      "source": [
        "## Tensorflow Modelling "
      ]
    },
    {
      "cell_type": "code",
      "metadata": {
        "id": "JzrryVQiz2uw"
      },
      "source": [
        "from keras import models\n",
        "from keras import layers\n",
        "from keras import optimizers\n",
        "from keras.preprocessing.image import load_img, img_to_array, ImageDataGenerator\n",
        "WIDTH = 150\n",
        "HEIGHT = 150\n",
        "import tensorflow as tf\n",
        "from tensorflow.keras.datasets import cifar10\n",
        "from tensorflow.keras.preprocessing.image import ImageDataGenerator\n",
        "from tensorflow.keras.models import Sequential\n",
        "from tensorflow.keras.layers import Dense, Dropout, Activation, Flatten\n",
        "from tensorflow.keras.layers import Conv2D, MaxPooling2D"
      ],
      "execution_count": null,
      "outputs": []
    },
    {
      "cell_type": "code",
      "metadata": {
        "colab": {
          "base_uri": "https://localhost:8080/"
        },
        "id": "4p9_ZY7B0YDR",
        "outputId": "8a4157bb-5455-4338-89a2-d822db2c4254"
      },
      "source": [
        "model=models.Sequential()\n",
        "model.add(layers.Conv2D(32, (3,3), activation=\"relu\", input_shape=(WIDTH, HEIGHT, 3)))\n",
        "model.add(layers.Conv2D(32, (3,3), activation=\"relu\"))\n",
        "model.add(layers.BatchNormalization())\n",
        "model.add(layers.MaxPooling2D((2,2)))\n",
        "model.add(layers.Dropout(0.25))\n",
        "\n",
        "model.add(layers.Conv2D(64, (3,3), activation=\"relu\"))\n",
        "model.add(layers.Conv2D(64, (3,3), activation=\"relu\"))\n",
        "model.add(layers.BatchNormalization())\n",
        "model.add(layers.MaxPooling2D(2,2))\n",
        "model.add(layers.Dropout(0.25))\n",
        "\n",
        "model.add(layers.Conv2D(128, (3,3), activation=\"relu\"))\n",
        "model.add(layers.Conv2D(128, (3,3), activation=\"relu\"))\n",
        "model.add(layers.BatchNormalization())\n",
        "model.add(layers.MaxPooling2D((2,2)))\n",
        "model.add(layers.Dropout(0.25))\n",
        "\n",
        "model.add(layers.Conv2D(64, (3,3), activation=\"relu\"))\n",
        "model.add(layers.Conv2D(64, (3,3), activation=\"relu\"))\n",
        "model.add(layers.BatchNormalization())\n",
        "model.add(layers.MaxPooling2D((2,2)))\n",
        "model.add(layers.Dropout(0.25))\n",
        "model.add(layers.Flatten())\n",
        "model.add(layers.Dense(512, activation=\"relu\"))\n",
        "model.add(layers.Dropout(0.5))\n",
        "model.add(layers.Dense(1, activation=\"sigmoid\"))\n",
        "model.summary()"
      ],
      "execution_count": null,
      "outputs": [
        {
          "output_type": "stream",
          "text": [
            "Model: \"sequential\"\n",
            "_________________________________________________________________\n",
            "Layer (type)                 Output Shape              Param #   \n",
            "=================================================================\n",
            "conv2d (Conv2D)              (None, 148, 148, 32)      896       \n",
            "_________________________________________________________________\n",
            "conv2d_1 (Conv2D)            (None, 146, 146, 32)      9248      \n",
            "_________________________________________________________________\n",
            "batch_normalization (BatchNo (None, 146, 146, 32)      128       \n",
            "_________________________________________________________________\n",
            "max_pooling2d (MaxPooling2D) (None, 73, 73, 32)        0         \n",
            "_________________________________________________________________\n",
            "dropout (Dropout)            (None, 73, 73, 32)        0         \n",
            "_________________________________________________________________\n",
            "conv2d_2 (Conv2D)            (None, 71, 71, 64)        18496     \n",
            "_________________________________________________________________\n",
            "conv2d_3 (Conv2D)            (None, 69, 69, 64)        36928     \n",
            "_________________________________________________________________\n",
            "batch_normalization_1 (Batch (None, 69, 69, 64)        256       \n",
            "_________________________________________________________________\n",
            "max_pooling2d_1 (MaxPooling2 (None, 34, 34, 64)        0         \n",
            "_________________________________________________________________\n",
            "dropout_1 (Dropout)          (None, 34, 34, 64)        0         \n",
            "_________________________________________________________________\n",
            "conv2d_4 (Conv2D)            (None, 32, 32, 128)       73856     \n",
            "_________________________________________________________________\n",
            "conv2d_5 (Conv2D)            (None, 30, 30, 128)       147584    \n",
            "_________________________________________________________________\n",
            "batch_normalization_2 (Batch (None, 30, 30, 128)       512       \n",
            "_________________________________________________________________\n",
            "max_pooling2d_2 (MaxPooling2 (None, 15, 15, 128)       0         \n",
            "_________________________________________________________________\n",
            "dropout_2 (Dropout)          (None, 15, 15, 128)       0         \n",
            "_________________________________________________________________\n",
            "conv2d_6 (Conv2D)            (None, 13, 13, 64)        73792     \n",
            "_________________________________________________________________\n",
            "conv2d_7 (Conv2D)            (None, 11, 11, 64)        36928     \n",
            "_________________________________________________________________\n",
            "batch_normalization_3 (Batch (None, 11, 11, 64)        256       \n",
            "_________________________________________________________________\n",
            "max_pooling2d_3 (MaxPooling2 (None, 5, 5, 64)          0         \n",
            "_________________________________________________________________\n",
            "dropout_3 (Dropout)          (None, 5, 5, 64)          0         \n",
            "_________________________________________________________________\n",
            "flatten (Flatten)            (None, 1600)              0         \n",
            "_________________________________________________________________\n",
            "dense (Dense)                (None, 512)               819712    \n",
            "_________________________________________________________________\n",
            "dropout_4 (Dropout)          (None, 512)               0         \n",
            "_________________________________________________________________\n",
            "dense_1 (Dense)              (None, 1)                 513       \n",
            "=================================================================\n",
            "Total params: 1,219,105\n",
            "Trainable params: 1,218,529\n",
            "Non-trainable params: 576\n",
            "_________________________________________________________________\n"
          ],
          "name": "stdout"
        }
      ]
    },
    {
      "cell_type": "code",
      "metadata": {
        "id": "_YULTesk1ym_",
        "colab": {
          "base_uri": "https://localhost:8080/"
        },
        "outputId": "26b1ea5e-d638-478e-8229-64448ce5870f"
      },
      "source": [
        "model.compile(loss=\"binary_crossentropy\", \n",
        "             optimizer=optimizers.RMSprop(learning_rate=1e-4),\n",
        "             metrics=[\"acc\"])\n",
        "print(\" Model compiled.\")"
      ],
      "execution_count": null,
      "outputs": [
        {
          "output_type": "stream",
          "text": [
            " Model compiled.\n"
          ],
          "name": "stdout"
        }
      ]
    },
    {
      "cell_type": "code",
      "metadata": {
        "id": "0C2fL3Nb17Mf"
      },
      "source": [
        "datagen = ImageDataGenerator(rescale=1./255,\n",
        "                            #featurewise_center=True,\n",
        "                            #featurewise_std_normalization=True,\n",
        "                            rotation_range=40,\n",
        "                            width_shift_range=0.2,\n",
        "                            height_shift_range=0.2,\n",
        "                            shear_range=0.2,\n",
        "                            zoom_range=0.2,\n",
        "                            horizontal_flip=True,\n",
        "                            vertical_flip=True,\n",
        "                            fill_mode='nearest'\n",
        "                            )\n",
        "\n",
        "valid_datagen = ImageDataGenerator(rescale=1./255)"
      ],
      "execution_count": null,
      "outputs": []
    },
    {
      "cell_type": "code",
      "metadata": {
        "id": "0bmhNRWd17JR",
        "colab": {
          "base_uri": "https://localhost:8080/"
        },
        "outputId": "8d76dd4d-2a4c-4c52-c65c-927a5c279bff"
      },
      "source": [
        "train_generator = datagen.flow_from_directory(train,\n",
        "                                             target_size=(150,150),\n",
        "                                             batch_size=64,\n",
        "                                             class_mode='binary'\n",
        "                                             )\n",
        "\n",
        "validation_generator = valid_datagen.flow_from_directory(validation,\n",
        "                                           target_size=(150,150),\n",
        "                                           batch_size=64,\n",
        "                                           class_mode='binary'\n",
        "                                           )"
      ],
      "execution_count": null,
      "outputs": [
        {
          "output_type": "stream",
          "text": [
            "Found 20000 images belonging to 2 classes.\n",
            "Found 5000 images belonging to 2 classes.\n"
          ],
          "name": "stdout"
        }
      ]
    },
    {
      "cell_type": "code",
      "metadata": {
        "colab": {
          "base_uri": "https://localhost:8080/"
        },
        "id": "vOJJkCB7Ad_G",
        "outputId": "5e37fada-7d8d-4268-d36c-a9517864ed40"
      },
      "source": [
        "history = model.fit(train_generator,\n",
        "                       steps_per_epoch=100,\n",
        "                       epochs=50,\n",
        "                       validation_data=validation_generator,\n",
        "                       validation_steps=20\n",
        "                   )"
      ],
      "execution_count": null,
      "outputs": [
        {
          "output_type": "stream",
          "text": [
            "Epoch 1/50\n",
            "100/100 [==============================] - 105s 540ms/step - loss: 1.1781 - accuracy: 0.5200 - val_loss: 0.7139 - val_accuracy: 0.5094\n",
            "Epoch 2/50\n",
            "100/100 [==============================] - 53s 537ms/step - loss: 0.8722 - accuracy: 0.5512 - val_loss: 0.7169 - val_accuracy: 0.4891\n",
            "Epoch 3/50\n",
            "100/100 [==============================] - 52s 523ms/step - loss: 0.7498 - accuracy: 0.5622 - val_loss: 0.9284 - val_accuracy: 0.4867\n",
            "Epoch 4/50\n",
            "100/100 [==============================] - 53s 532ms/step - loss: 0.7064 - accuracy: 0.5736 - val_loss: 1.7795 - val_accuracy: 0.5065\n",
            "Epoch 5/50\n",
            "100/100 [==============================] - 52s 524ms/step - loss: 0.6716 - accuracy: 0.6013 - val_loss: 2.1774 - val_accuracy: 0.4844\n",
            "Epoch 6/50\n",
            "100/100 [==============================] - 51s 515ms/step - loss: 0.6646 - accuracy: 0.6057 - val_loss: 1.2795 - val_accuracy: 0.5469\n",
            "Epoch 7/50\n",
            "100/100 [==============================] - 50s 505ms/step - loss: 0.6446 - accuracy: 0.6208 - val_loss: 1.2255 - val_accuracy: 0.5820\n",
            "Epoch 8/50\n",
            "100/100 [==============================] - 52s 520ms/step - loss: 0.6372 - accuracy: 0.6344 - val_loss: 1.0661 - val_accuracy: 0.6315\n",
            "Epoch 9/50\n",
            "100/100 [==============================] - 52s 523ms/step - loss: 0.6412 - accuracy: 0.6395 - val_loss: 0.8495 - val_accuracy: 0.6258\n",
            "Epoch 10/50\n",
            "100/100 [==============================] - 52s 522ms/step - loss: 0.6322 - accuracy: 0.6480 - val_loss: 1.1826 - val_accuracy: 0.5477\n",
            "Epoch 11/50\n",
            "100/100 [==============================] - 52s 526ms/step - loss: 0.6256 - accuracy: 0.6378 - val_loss: 0.9620 - val_accuracy: 0.6484\n",
            "Epoch 12/50\n",
            "100/100 [==============================] - 52s 522ms/step - loss: 0.6081 - accuracy: 0.6759 - val_loss: 0.8907 - val_accuracy: 0.6324\n",
            "Epoch 13/50\n",
            "100/100 [==============================] - 51s 515ms/step - loss: 0.6271 - accuracy: 0.6432 - val_loss: 0.9197 - val_accuracy: 0.6516\n",
            "Epoch 14/50\n",
            "100/100 [==============================] - 51s 513ms/step - loss: 0.6108 - accuracy: 0.6645 - val_loss: 0.8273 - val_accuracy: 0.6977\n",
            "Epoch 15/50\n",
            "100/100 [==============================] - 51s 518ms/step - loss: 0.6081 - accuracy: 0.6680 - val_loss: 1.1397 - val_accuracy: 0.6250\n",
            "Epoch 16/50\n",
            "100/100 [==============================] - 52s 525ms/step - loss: 0.5965 - accuracy: 0.6805 - val_loss: 0.9687 - val_accuracy: 0.6479\n",
            "Epoch 17/50\n",
            "100/100 [==============================] - 51s 514ms/step - loss: 0.6075 - accuracy: 0.6715 - val_loss: 1.0105 - val_accuracy: 0.6484\n",
            "Epoch 18/50\n",
            "100/100 [==============================] - 52s 525ms/step - loss: 0.5968 - accuracy: 0.6849 - val_loss: 0.8026 - val_accuracy: 0.7203\n",
            "Epoch 19/50\n",
            "100/100 [==============================] - 51s 517ms/step - loss: 0.5972 - accuracy: 0.6826 - val_loss: 0.7805 - val_accuracy: 0.7157\n",
            "Epoch 20/50\n",
            "100/100 [==============================] - 51s 517ms/step - loss: 0.5862 - accuracy: 0.6822 - val_loss: 1.3213 - val_accuracy: 0.6430\n",
            "Epoch 21/50\n",
            "100/100 [==============================] - 51s 514ms/step - loss: 0.5825 - accuracy: 0.6923 - val_loss: 0.6820 - val_accuracy: 0.7227\n",
            "Epoch 22/50\n",
            "100/100 [==============================] - 52s 520ms/step - loss: 0.5898 - accuracy: 0.6797 - val_loss: 0.8566 - val_accuracy: 0.7047\n",
            "Epoch 23/50\n",
            "100/100 [==============================] - 52s 527ms/step - loss: 0.5628 - accuracy: 0.7047 - val_loss: 1.5345 - val_accuracy: 0.6340\n",
            "Epoch 24/50\n",
            "100/100 [==============================] - 52s 521ms/step - loss: 0.5851 - accuracy: 0.6887 - val_loss: 0.9540 - val_accuracy: 0.7094\n",
            "Epoch 25/50\n",
            "100/100 [==============================] - 52s 527ms/step - loss: 0.5607 - accuracy: 0.7167 - val_loss: 1.2090 - val_accuracy: 0.6891\n",
            "Epoch 26/50\n",
            "100/100 [==============================] - 52s 523ms/step - loss: 0.5719 - accuracy: 0.7069 - val_loss: 0.9795 - val_accuracy: 0.7055\n",
            "Epoch 27/50\n",
            "100/100 [==============================] - 51s 514ms/step - loss: 0.5503 - accuracy: 0.7155 - val_loss: 1.0062 - val_accuracy: 0.6650\n",
            "Epoch 28/50\n",
            "100/100 [==============================] - 51s 512ms/step - loss: 0.5514 - accuracy: 0.7173 - val_loss: 0.9648 - val_accuracy: 0.6828\n",
            "Epoch 29/50\n",
            "100/100 [==============================] - 53s 536ms/step - loss: 0.5560 - accuracy: 0.7100 - val_loss: 1.1309 - val_accuracy: 0.6711\n",
            "Epoch 30/50\n",
            "100/100 [==============================] - 51s 512ms/step - loss: 0.5408 - accuracy: 0.7353 - val_loss: 1.2369 - val_accuracy: 0.6805\n",
            "Epoch 31/50\n",
            "100/100 [==============================] - 51s 515ms/step - loss: 0.5422 - accuracy: 0.7271 - val_loss: 0.7854 - val_accuracy: 0.7369\n",
            "Epoch 32/50\n",
            "100/100 [==============================] - 52s 522ms/step - loss: 0.5322 - accuracy: 0.7313 - val_loss: 0.8953 - val_accuracy: 0.6992\n",
            "Epoch 33/50\n",
            "100/100 [==============================] - 52s 524ms/step - loss: 0.5458 - accuracy: 0.7243 - val_loss: 0.9066 - val_accuracy: 0.7094\n",
            "Epoch 34/50\n",
            "100/100 [==============================] - 51s 512ms/step - loss: 0.5305 - accuracy: 0.7354 - val_loss: 0.7668 - val_accuracy: 0.7108\n",
            "Epoch 35/50\n",
            "100/100 [==============================] - 53s 530ms/step - loss: 0.5360 - accuracy: 0.7337 - val_loss: 0.6889 - val_accuracy: 0.7695\n",
            "Epoch 36/50\n",
            "100/100 [==============================] - 51s 511ms/step - loss: 0.5450 - accuracy: 0.7216 - val_loss: 1.0341 - val_accuracy: 0.7070\n",
            "Epoch 37/50\n",
            "100/100 [==============================] - 50s 505ms/step - loss: 0.5166 - accuracy: 0.7478 - val_loss: 1.1599 - val_accuracy: 0.6781\n",
            "Epoch 38/50\n",
            "100/100 [==============================] - 51s 515ms/step - loss: 0.5327 - accuracy: 0.7410 - val_loss: 1.0319 - val_accuracy: 0.6650\n",
            "Epoch 39/50\n",
            "100/100 [==============================] - 51s 515ms/step - loss: 0.5179 - accuracy: 0.7382 - val_loss: 0.5458 - val_accuracy: 0.7789\n",
            "Epoch 40/50\n",
            "100/100 [==============================] - 51s 514ms/step - loss: 0.5282 - accuracy: 0.7414 - val_loss: 0.6353 - val_accuracy: 0.7328\n",
            "Epoch 41/50\n",
            "100/100 [==============================] - 50s 502ms/step - loss: 0.5443 - accuracy: 0.7291 - val_loss: 0.9032 - val_accuracy: 0.6938\n",
            "Epoch 42/50\n",
            "100/100 [==============================] - 52s 527ms/step - loss: 0.5056 - accuracy: 0.7468 - val_loss: 0.8233 - val_accuracy: 0.7149\n",
            "Epoch 43/50\n",
            "100/100 [==============================] - 50s 506ms/step - loss: 0.5152 - accuracy: 0.7503 - val_loss: 1.5767 - val_accuracy: 0.6352\n",
            "Epoch 44/50\n",
            "100/100 [==============================] - 50s 507ms/step - loss: 0.5117 - accuracy: 0.7513 - val_loss: 0.8727 - val_accuracy: 0.7406\n",
            "Epoch 45/50\n",
            "100/100 [==============================] - 51s 518ms/step - loss: 0.5091 - accuracy: 0.7523 - val_loss: 0.9238 - val_accuracy: 0.7305\n",
            "Epoch 46/50\n",
            "100/100 [==============================] - 51s 518ms/step - loss: 0.5287 - accuracy: 0.7328 - val_loss: 0.6318 - val_accuracy: 0.7639\n",
            "Epoch 47/50\n",
            "100/100 [==============================] - 50s 507ms/step - loss: 0.4997 - accuracy: 0.7605 - val_loss: 0.6117 - val_accuracy: 0.7617\n",
            "Epoch 48/50\n",
            "100/100 [==============================] - 52s 525ms/step - loss: 0.4915 - accuracy: 0.7652 - val_loss: 0.5042 - val_accuracy: 0.7977\n",
            "Epoch 49/50\n",
            "100/100 [==============================] - 51s 512ms/step - loss: 0.5070 - accuracy: 0.7472 - val_loss: 0.9508 - val_accuracy: 0.7165\n",
            "Epoch 50/50\n",
            "100/100 [==============================] - 50s 506ms/step - loss: 0.4921 - accuracy: 0.7618 - val_loss: 0.8472 - val_accuracy: 0.7477\n"
          ],
          "name": "stdout"
        }
      ]
    },
    {
      "cell_type": "code",
      "metadata": {
        "colab": {
          "base_uri": "https://localhost:8080/",
          "height": 234
        },
        "id": "XF0bkNqFAd1Q",
        "outputId": "aafd2c48-4466-4be4-b581-2256791d464a"
      },
      "source": [
        "acc = history.history['acc']\n",
        "val_acc = history.history['val_acc']\n",
        "loss = history.history['loss']\n",
        "val_loss = history.history['val_loss']\n",
        "\n",
        "epoch = range(len(acc))\n",
        "\n",
        "plt.title('Accuracy vs Validation-Accuracy')\n",
        "plt.plot(epoch,acc,label='Accuracy')\n",
        "plt.plot(epoch,val_acc,label='Validation-Accuracy')\n",
        "plt.legend()\n",
        "plt.figure()\n",
        "\n",
        "plt.title('Loss vs Validation-Loss')\n",
        "plt.plot(epoch,loss,label='Loss')\n",
        "plt.plot(epoch,val_loss,label='Validation-Loss')\n",
        "plt.legend()"
      ],
      "execution_count": null,
      "outputs": [
        {
          "output_type": "error",
          "ename": "KeyError",
          "evalue": "ignored",
          "traceback": [
            "\u001b[0;31m---------------------------------------------------------------------------\u001b[0m",
            "\u001b[0;31mKeyError\u001b[0m                                  Traceback (most recent call last)",
            "\u001b[0;32m<ipython-input-22-f1aecc10a385>\u001b[0m in \u001b[0;36m<module>\u001b[0;34m()\u001b[0m\n\u001b[0;32m----> 1\u001b[0;31m \u001b[0macc\u001b[0m \u001b[0;34m=\u001b[0m \u001b[0mhistory\u001b[0m\u001b[0;34m.\u001b[0m\u001b[0mhistory\u001b[0m\u001b[0;34m[\u001b[0m\u001b[0;34m'acc'\u001b[0m\u001b[0;34m]\u001b[0m\u001b[0;34m\u001b[0m\u001b[0;34m\u001b[0m\u001b[0m\n\u001b[0m\u001b[1;32m      2\u001b[0m \u001b[0mval_acc\u001b[0m \u001b[0;34m=\u001b[0m \u001b[0mhistory\u001b[0m\u001b[0;34m.\u001b[0m\u001b[0mhistory\u001b[0m\u001b[0;34m[\u001b[0m\u001b[0;34m'val_acc'\u001b[0m\u001b[0;34m]\u001b[0m\u001b[0;34m\u001b[0m\u001b[0;34m\u001b[0m\u001b[0m\n\u001b[1;32m      3\u001b[0m \u001b[0mloss\u001b[0m \u001b[0;34m=\u001b[0m \u001b[0mhistory\u001b[0m\u001b[0;34m.\u001b[0m\u001b[0mhistory\u001b[0m\u001b[0;34m[\u001b[0m\u001b[0;34m'loss'\u001b[0m\u001b[0;34m]\u001b[0m\u001b[0;34m\u001b[0m\u001b[0;34m\u001b[0m\u001b[0m\n\u001b[1;32m      4\u001b[0m \u001b[0mval_loss\u001b[0m \u001b[0;34m=\u001b[0m \u001b[0mhistory\u001b[0m\u001b[0;34m.\u001b[0m\u001b[0mhistory\u001b[0m\u001b[0;34m[\u001b[0m\u001b[0;34m'val_loss'\u001b[0m\u001b[0;34m]\u001b[0m\u001b[0;34m\u001b[0m\u001b[0;34m\u001b[0m\u001b[0m\n\u001b[1;32m      5\u001b[0m \u001b[0;34m\u001b[0m\u001b[0m\n",
            "\u001b[0;31mKeyError\u001b[0m: 'acc'"
          ]
        }
      ]
    },
    {
      "cell_type": "markdown",
      "metadata": {
        "id": "NbO9zEdiQF7_"
      },
      "source": [
        "# Validation"
      ]
    },
    {
      "cell_type": "code",
      "metadata": {
        "id": "GBngiSj-5sCn"
      },
      "source": [
        ""
      ],
      "execution_count": null,
      "outputs": []
    }
  ]
}